{
 "cells": [
  {
   "cell_type": "code",
   "execution_count": 22,
   "id": "3265e9a4-e0d8-4191-88d5-f034b1cbb093",
   "metadata": {},
   "outputs": [],
   "source": [
    "#import pandas as pd\n",
    "mca = pd.read_csv('/Users/spicasumampouw/IronSpica/lab/lab-customer-analysis-round-2/files_for_lab/csv_files/marketing_customer_analysis.csv')"
   ]
  },
  {
   "cell_type": "code",
   "execution_count": 23,
   "id": "b494e505-356e-4242-88a6-ad9a03493fde",
   "metadata": {},
   "outputs": [
    {
     "data": {
      "text/plain": [
       "(10910, 26)"
      ]
     },
     "execution_count": 23,
     "metadata": {},
     "output_type": "execute_result"
    }
   ],
   "source": [
    "mca.shape\n",
    "#Show the dataframe shape"
   ]
  },
  {
   "cell_type": "code",
   "execution_count": 24,
   "id": "1448d453-d4ef-48b8-ae51-d37e42c11f06",
   "metadata": {},
   "outputs": [],
   "source": [
    "mca.columns = mca.columns.str.lower()\n",
    "#Standardize header names."
   ]
  },
  {
   "cell_type": "code",
   "execution_count": 39,
   "id": "451b75a3-af93-4c79-8909-b16ccda1cdb9",
   "metadata": {},
   "outputs": [
    {
     "data": {
      "text/html": [
       "<div>\n",
       "<style scoped>\n",
       "    .dataframe tbody tr th:only-of-type {\n",
       "        vertical-align: middle;\n",
       "    }\n",
       "\n",
       "    .dataframe tbody tr th {\n",
       "        vertical-align: top;\n",
       "    }\n",
       "\n",
       "    .dataframe thead th {\n",
       "        text-align: right;\n",
       "    }\n",
       "</style>\n",
       "<table border=\"1\" class=\"dataframe\">\n",
       "  <thead>\n",
       "    <tr style=\"text-align: right;\">\n",
       "      <th></th>\n",
       "      <th>customer lifetime value</th>\n",
       "      <th>months since last claim</th>\n",
       "      <th>number of open complaints</th>\n",
       "      <th>total claim amount</th>\n",
       "    </tr>\n",
       "  </thead>\n",
       "  <tbody>\n",
       "    <tr>\n",
       "      <th>0</th>\n",
       "      <td>4809.216960</td>\n",
       "      <td>7.0</td>\n",
       "      <td>0.0</td>\n",
       "      <td>292.800000</td>\n",
       "    </tr>\n",
       "    <tr>\n",
       "      <th>1</th>\n",
       "      <td>2228.525238</td>\n",
       "      <td>3.0</td>\n",
       "      <td>0.0</td>\n",
       "      <td>744.924331</td>\n",
       "    </tr>\n",
       "    <tr>\n",
       "      <th>2</th>\n",
       "      <td>14947.917300</td>\n",
       "      <td>34.0</td>\n",
       "      <td>0.0</td>\n",
       "      <td>480.000000</td>\n",
       "    </tr>\n",
       "    <tr>\n",
       "      <th>3</th>\n",
       "      <td>22332.439460</td>\n",
       "      <td>10.0</td>\n",
       "      <td>0.0</td>\n",
       "      <td>484.013411</td>\n",
       "    </tr>\n",
       "    <tr>\n",
       "      <th>4</th>\n",
       "      <td>9025.067525</td>\n",
       "      <td>NaN</td>\n",
       "      <td>NaN</td>\n",
       "      <td>707.925645</td>\n",
       "    </tr>\n",
       "    <tr>\n",
       "      <th>...</th>\n",
       "      <td>...</td>\n",
       "      <td>...</td>\n",
       "      <td>...</td>\n",
       "      <td>...</td>\n",
       "    </tr>\n",
       "    <tr>\n",
       "      <th>10905</th>\n",
       "      <td>15563.369440</td>\n",
       "      <td>NaN</td>\n",
       "      <td>NaN</td>\n",
       "      <td>1214.400000</td>\n",
       "    </tr>\n",
       "    <tr>\n",
       "      <th>10906</th>\n",
       "      <td>5259.444853</td>\n",
       "      <td>7.0</td>\n",
       "      <td>0.0</td>\n",
       "      <td>273.018929</td>\n",
       "    </tr>\n",
       "    <tr>\n",
       "      <th>10907</th>\n",
       "      <td>23893.304100</td>\n",
       "      <td>11.0</td>\n",
       "      <td>0.0</td>\n",
       "      <td>381.306996</td>\n",
       "    </tr>\n",
       "    <tr>\n",
       "      <th>10908</th>\n",
       "      <td>11971.977650</td>\n",
       "      <td>0.0</td>\n",
       "      <td>4.0</td>\n",
       "      <td>618.288849</td>\n",
       "    </tr>\n",
       "    <tr>\n",
       "      <th>10909</th>\n",
       "      <td>6857.519928</td>\n",
       "      <td>31.0</td>\n",
       "      <td>0.0</td>\n",
       "      <td>1021.719397</td>\n",
       "    </tr>\n",
       "  </tbody>\n",
       "</table>\n",
       "<p>10910 rows × 4 columns</p>\n",
       "</div>"
      ],
      "text/plain": [
       "       customer lifetime value  months since last claim  \\\n",
       "0                  4809.216960                      7.0   \n",
       "1                  2228.525238                      3.0   \n",
       "2                 14947.917300                     34.0   \n",
       "3                 22332.439460                     10.0   \n",
       "4                  9025.067525                      NaN   \n",
       "...                        ...                      ...   \n",
       "10905             15563.369440                      NaN   \n",
       "10906              5259.444853                      7.0   \n",
       "10907             23893.304100                     11.0   \n",
       "10908             11971.977650                      0.0   \n",
       "10909              6857.519928                     31.0   \n",
       "\n",
       "       number of open complaints  total claim amount  \n",
       "0                            0.0          292.800000  \n",
       "1                            0.0          744.924331  \n",
       "2                            0.0          480.000000  \n",
       "3                            0.0          484.013411  \n",
       "4                            NaN          707.925645  \n",
       "...                          ...                 ...  \n",
       "10905                        NaN         1214.400000  \n",
       "10906                        0.0          273.018929  \n",
       "10907                        0.0          381.306996  \n",
       "10908                        4.0          618.288849  \n",
       "10909                        0.0         1021.719397  \n",
       "\n",
       "[10910 rows x 4 columns]"
      ]
     },
     "execution_count": 39,
     "metadata": {},
     "output_type": "execute_result"
    }
   ],
   "source": [
    "#mca.head()\n",
    "#mca.dtypes\n",
    "mca.select_dtypes('float')\n",
    "#Which columns are numerical? & Which columns are categorical?"
   ]
  },
  {
   "cell_type": "code",
   "execution_count": 38,
   "id": "c2174897-8bed-4f7c-a4bd-328f65ccab3b",
   "metadata": {},
   "outputs": [
    {
     "data": {
      "text/plain": [
       "unnamed: 0                         int64\n",
       "customer                          object\n",
       "state                             object\n",
       "customer lifetime value          float64\n",
       "response                          object\n",
       "coverage                          object\n",
       "education                         object\n",
       "effective to date                 object\n",
       "employmentstatus                  object\n",
       "gender                            object\n",
       "income                             int64\n",
       "location code                     object\n",
       "marital status                    object\n",
       "monthly premium auto               int64\n",
       "months since last claim          float64\n",
       "months since policy inception      int64\n",
       "number of open complaints        float64\n",
       "number of policies                 int64\n",
       "policy type                       object\n",
       "policy                            object\n",
       "renew offer type                  object\n",
       "sales channel                     object\n",
       "total claim amount               float64\n",
       "vehicle class                     object\n",
       "vehicle size                      object\n",
       "vehicle type                      object\n",
       "dtype: object"
      ]
     },
     "execution_count": 38,
     "metadata": {},
     "output_type": "execute_result"
    }
   ],
   "source": [
    "#mca.isnull().sum()\n",
    "#mca.notnull().sum()\n",
    "#cleanmca = mca.dropna()\n",
    "#cleanmca.isnull().sum()\n",
    "cleanmca.dtypes\n",
    "#Check and deal with NaN values."
   ]
  },
  {
   "cell_type": "code",
   "execution_count": 89,
   "id": "481f1f1e-c1dc-44c2-a457-66a925d3f2ec",
   "metadata": {},
   "outputs": [
    {
     "data": {
      "text/plain": [
       "'Thursday 01. January 1970'"
      ]
     },
     "execution_count": 89,
     "metadata": {},
     "output_type": "execute_result"
    }
   ],
   "source": [
    "#asktotest-cleanmca['monthly premium auto', 'months since last claim', 'months since policy inception'] = pd.to_datetime(cleanmca['monthly premium auto', 'months since last claim', 'months since policy inception'], errors='coerce')\n",
    "#from datetime import date\n",
    "#cleanmcadt1 = pd.to_datetime(cleanmca['monthly premium auto']) \n",
    "#cleanmcadt2 = pd.to_datetime(cleanmca['months since last claim']) \n",
    "#cleanmcadt3 = pd.to_datetime(cleanmca['months since policy inception'])\n",
    "#mca['monthly premium auto'] = pd.to_datetime(mca['monthly premium auto'], errors='coerce')\n",
    "#mca['monthly premium auto']\n",
    "#cleanmcadt1.\n",
    "#mca['monthly premium auto'][0].day\n",
    "#mca['monthly premium auto'][0].month\n",
    "#mca['monthly premium auto'][0].year\n",
    "mca['monthly premium auto'][0].isoweekday()\n",
    "mca['monthly premium auto'][0].time()\n",
    "mca['monthly premium auto'][0].isoformat()\n",
    "mca['monthly premium auto'][0].strftime(format='%d %m %Y')\n",
    "mca['monthly premium auto'][0].strftime(format=\"%A %d. %B %Y\")\n",
    "#Datetime format - Extract the months from the dataset and store in a separate column. Then filter the data to show only the information for the first quarter , ie. January, February and March. Hint: If data from March does not exist, consider only January and February."
   ]
  },
  {
   "cell_type": "code",
   "execution_count": 90,
   "id": "29a6c6f9-bda9-42cb-bbaa-2fdd3b0a0e5a",
   "metadata": {},
   "outputs": [
    {
     "data": {
      "text/plain": [
       "<bound method NDFrame.head of 2       1970-01-01 00:00:00.000000100\n",
       "3       1970-01-01 00:00:00.000000097\n",
       "10      1970-01-01 00:00:00.000000127\n",
       "13      1970-01-01 00:00:00.000000069\n",
       "16      1970-01-01 00:00:00.000000066\n",
       "                     ...             \n",
       "10902   1970-01-01 00:00:00.000000091\n",
       "10903   1970-01-01 00:00:00.000000074\n",
       "10904   1970-01-01 00:00:00.000000187\n",
       "10906   1970-01-01 00:00:00.000000065\n",
       "10908   1970-01-01 00:00:00.000000158\n",
       "Name: monthly premium auto, Length: 4543, dtype: datetime64[ns]>"
      ]
     },
     "execution_count": 90,
     "metadata": {},
     "output_type": "execute_result"
    }
   ],
   "source": [
    "cleanmcadt1.head"
   ]
  },
  {
   "cell_type": "code",
   "execution_count": null,
   "id": "c6c746b2-e458-4cda-9424-5a2d5b98cda1",
   "metadata": {},
   "outputs": [],
   "source": []
  }
 ],
 "metadata": {
  "kernelspec": {
   "display_name": "Python 3",
   "language": "python",
   "name": "python3"
  },
  "language_info": {
   "codemirror_mode": {
    "name": "ipython",
    "version": 3
   },
   "file_extension": ".py",
   "mimetype": "text/x-python",
   "name": "python",
   "nbconvert_exporter": "python",
   "pygments_lexer": "ipython3",
   "version": "3.8.8"
  }
 },
 "nbformat": 4,
 "nbformat_minor": 5
}
